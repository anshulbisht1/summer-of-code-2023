{
 "cells": [
  {
   "cell_type": "code",
   "execution_count": 145,
   "id": "4c33587e",
   "metadata": {},
   "outputs": [],
   "source": [
    "import requests\n",
    "import pandas as pd"
   ]
  },
  {
   "cell_type": "code",
   "execution_count": 61,
   "id": "e16896a7",
   "metadata": {},
   "outputs": [],
   "source": [
    "from selenium import webdriver\n",
    "from webdriver_manager.chrome import ChromeDriverManager\n",
    "driver = webdriver.Chrome(ChromeDriverManager().install())\n",
    "driver.get('https://www.amazon.in/')"
   ]
  },
  {
   "cell_type": "code",
   "execution_count": 63,
   "id": "284bb7c4",
   "metadata": {},
   "outputs": [],
   "source": [
    "search_button = driver.find_element_by_id('twotabsearchtextbox')\n",
    "search_button.click()\n",
    "search_button.send_keys(\"analog watches for men\")\n",
    "search_button.submit()"
   ]
  },
  {
   "cell_type": "code",
   "execution_count": null,
   "id": "9f800513",
   "metadata": {},
   "outputs": [],
   "source": []
  },
  {
   "cell_type": "markdown",
   "id": "529e6cde",
   "metadata": {},
   "source": [
    "Analysing the automated chrome driver, we can observe that there are 7 total number of pages."
   ]
  },
  {
   "cell_type": "code",
   "execution_count": null,
   "id": "aea1e571",
   "metadata": {},
   "outputs": [],
   "source": []
  },
  {
   "cell_type": "markdown",
   "id": "9051decf",
   "metadata": {},
   "source": [
    "Collecting all the URLs (for each page)."
   ]
  },
  {
   "cell_type": "code",
   "execution_count": 71,
   "id": "36c706d4",
   "metadata": {},
   "outputs": [],
   "source": [
    "all_pages_url = []\n",
    "for i in range(1,8):\n",
    "    all_pages_url.append('https://www.amazon.in/s?k=analog+watches+for+men&page='+str(i)+'&ref=sr_pg_7')\n",
    "    "
   ]
  },
  {
   "cell_type": "code",
   "execution_count": null,
   "id": "7d36aeb9",
   "metadata": {},
   "outputs": [],
   "source": []
  },
  {
   "cell_type": "code",
   "execution_count": 74,
   "id": "3e9d01cf",
   "metadata": {},
   "outputs": [],
   "source": [
    "# creating header files for making http requests\n",
    "HEADERS = {'User-Agent':'Mozilla/5.0 (Windows NT 10.0; Win64; x64) AppleWebKit/537.36 (KHTML, like Gecko) Chrome/114.0.0.0 Safari/537.36'}\n",
    "base_url = 'https://www.amazon.in/'\n"
   ]
  },
  {
   "cell_type": "code",
   "execution_count": null,
   "id": "dbab2de3",
   "metadata": {},
   "outputs": [],
   "source": []
  },
  {
   "cell_type": "code",
   "execution_count": null,
   "id": "7479b693",
   "metadata": {},
   "outputs": [],
   "source": []
  },
  {
   "cell_type": "markdown",
   "id": "68d2779d",
   "metadata": {},
   "source": [
    "# Iterating over each page and finding the link of each watch within the page,\n",
    "# Further iterating over each watch link and extracting the desired data"
   ]
  },
  {
   "cell_type": "code",
   "execution_count": 140,
   "id": "d88def78",
   "metadata": {},
   "outputs": [],
   "source": [
    "all_watches = []                #contains the data of each watch within 7 pages"
   ]
  },
  {
   "cell_type": "code",
   "execution_count": 141,
   "id": "d3bed682",
   "metadata": {},
   "outputs": [],
   "source": [
    "for page in all_pages_url:\n",
    "    response = requests.get(page,headers=HEADERS)\n",
    "    soup = BeautifulSoup(response.text)\n",
    "    \n",
    "    # creating a list of all watches on the current page (links)\n",
    "    curr_watches = []\n",
    "    for i in soup.find_all('a',target = \"_blank\",class_ = 'a-link-normal s-underline-text s-underline-link-text s-link-style'):\n",
    "        curr_watches.append(base_url+i.attrs['href'])\n",
    "    \n",
    "    # extracting the details of each watch\n",
    "    for i in curr_watches:\n",
    "        try:    \n",
    "            response1 = requests.get(i,headers=HEADERS)\n",
    "            soup1 = BeautifulSoup(response1.text,'html.parser')\n",
    "            if str(response1.status_code).startswith('2'):\n",
    "\n",
    "                title = soup1.find(id='title').text.strip()\n",
    "                availability = soup1.find(id='availability').text.strip()\n",
    "                review_counts = int(soup1.find(id='acrCustomerReviewText').text.split()[0].replace(',',''))\n",
    "                ratings = float(soup1.find('span',class_='a-size-base a-color-base').text.strip())\n",
    "                price = float(soup1.find('span',class_='a-price-whole').text.replace(\",\",''))\n",
    "\n",
    "            all_watches.append([title,review_counts,ratings,availability,price])\n",
    "            \n",
    "        except:\n",
    "            continue"
   ]
  },
  {
   "cell_type": "code",
   "execution_count": null,
   "id": "2bf71851",
   "metadata": {},
   "outputs": [],
   "source": []
  },
  {
   "cell_type": "markdown",
   "id": "9a2c592e",
   "metadata": {},
   "source": [
    "# as the data is now extracted, we can convert the data to Data Frames"
   ]
  },
  {
   "cell_type": "code",
   "execution_count": 166,
   "id": "92c095e5",
   "metadata": {},
   "outputs": [],
   "source": [
    "import pandas as pd\n",
    "df = pd.DataFrame(all_watches,columns=['Title','Reviews',\"Ratings\",\"Availability\",'Price'])"
   ]
  },
  {
   "cell_type": "code",
   "execution_count": null,
   "id": "2d132662",
   "metadata": {},
   "outputs": [],
   "source": []
  },
  {
   "cell_type": "markdown",
   "id": "6fe91304",
   "metadata": {},
   "source": [
    "Ceating brand feature for each watch "
   ]
  },
  {
   "cell_type": "code",
   "execution_count": 167,
   "id": "fea8449b",
   "metadata": {},
   "outputs": [],
   "source": [
    "def brand(s):\n",
    "    return s.split()[0]\n",
    "\n",
    "df['Brand'] = df.Title.apply(brand)"
   ]
  },
  {
   "cell_type": "code",
   "execution_count": 168,
   "id": "c0986281",
   "metadata": {},
   "outputs": [],
   "source": [
    "# re-ordering df\n",
    "df = df[['Title',\"Brand\",'Reviews',\"Ratings\",\"Availability\",'Price']]"
   ]
  },
  {
   "cell_type": "code",
   "execution_count": 169,
   "id": "70141755",
   "metadata": {},
   "outputs": [],
   "source": [
    "# filling the empty values in Availability wihth 'Out of stock'\n",
    "def empty_availability(s):\n",
    "    if s == '':\n",
    "        return 'Out of stock'\n",
    "    else:\n",
    "        return s\n",
    "    \n",
    "df.Availability = df.Availability.apply(empty_availability)"
   ]
  },
  {
   "cell_type": "code",
   "execution_count": 170,
   "id": "1c951083",
   "metadata": {},
   "outputs": [],
   "source": [
    "# Finally exporting the data as .csv"
   ]
  },
  {
   "cell_type": "code",
   "execution_count": 175,
   "id": "44b7dd2d",
   "metadata": {},
   "outputs": [],
   "source": [
    "df.to_csv(\"raw_data.csv\",index=False)"
   ]
  },
  {
   "cell_type": "code",
   "execution_count": 177,
   "id": "5165fffd",
   "metadata": {},
   "outputs": [
    {
     "data": {
      "text/html": [
       "<div>\n",
       "<style scoped>\n",
       "    .dataframe tbody tr th:only-of-type {\n",
       "        vertical-align: middle;\n",
       "    }\n",
       "\n",
       "    .dataframe tbody tr th {\n",
       "        vertical-align: top;\n",
       "    }\n",
       "\n",
       "    .dataframe thead th {\n",
       "        text-align: right;\n",
       "    }\n",
       "</style>\n",
       "<table border=\"1\" class=\"dataframe\">\n",
       "  <thead>\n",
       "    <tr style=\"text-align: right;\">\n",
       "      <th></th>\n",
       "      <th>Title</th>\n",
       "      <th>Brand</th>\n",
       "      <th>Reviews</th>\n",
       "      <th>Ratings</th>\n",
       "      <th>Availability</th>\n",
       "      <th>Price</th>\n",
       "    </tr>\n",
       "  </thead>\n",
       "  <tbody>\n",
       "    <tr>\n",
       "      <th>0</th>\n",
       "      <td>RPS FASHION WITH DEVICE OF R mens Analog &amp; Dig...</td>\n",
       "      <td>RPS</td>\n",
       "      <td>30</td>\n",
       "      <td>3.3</td>\n",
       "      <td>In stock</td>\n",
       "      <td>170.0</td>\n",
       "    </tr>\n",
       "    <tr>\n",
       "      <th>1</th>\n",
       "      <td>Titan Light Leathers Analog Blue Dial Men's Wa...</td>\n",
       "      <td>Titan</td>\n",
       "      <td>193</td>\n",
       "      <td>4.3</td>\n",
       "      <td>In stock</td>\n",
       "      <td>10075.0</td>\n",
       "    </tr>\n",
       "    <tr>\n",
       "      <th>2</th>\n",
       "      <td>Hugo Boss Contemporary Sport Analog Blue Dial ...</td>\n",
       "      <td>Hugo</td>\n",
       "      <td>273</td>\n",
       "      <td>4.5</td>\n",
       "      <td>In stock</td>\n",
       "      <td>32925.0</td>\n",
       "    </tr>\n",
       "    <tr>\n",
       "      <th>3</th>\n",
       "      <td>Casio Digital Black Dial Men's Watch-G-5600UE-1DR</td>\n",
       "      <td>Casio</td>\n",
       "      <td>461</td>\n",
       "      <td>4.7</td>\n",
       "      <td>Only 2 left in stock</td>\n",
       "      <td>5295.0</td>\n",
       "    </tr>\n",
       "    <tr>\n",
       "      <th>4</th>\n",
       "      <td>LOUIS DEVIN Silicone Strap Analog Wrist Watch ...</td>\n",
       "      <td>LOUIS</td>\n",
       "      <td>1128</td>\n",
       "      <td>3.9</td>\n",
       "      <td>In stock</td>\n",
       "      <td>397.0</td>\n",
       "    </tr>\n",
       "    <tr>\n",
       "      <th>...</th>\n",
       "      <td>...</td>\n",
       "      <td>...</td>\n",
       "      <td>...</td>\n",
       "      <td>...</td>\n",
       "      <td>...</td>\n",
       "      <td>...</td>\n",
       "    </tr>\n",
       "    <tr>\n",
       "      <th>366</th>\n",
       "      <td>TIMEX 3 Hands Men Analog Silver Dial Coloured ...</td>\n",
       "      <td>TIMEX</td>\n",
       "      <td>2</td>\n",
       "      <td>4.0</td>\n",
       "      <td>In stock</td>\n",
       "      <td>1502.0</td>\n",
       "    </tr>\n",
       "    <tr>\n",
       "      <th>367</th>\n",
       "      <td>Titan Analog Green Dial Men's Watch-1805WP01</td>\n",
       "      <td>Titan</td>\n",
       "      <td>31</td>\n",
       "      <td>4.3</td>\n",
       "      <td>Only 2 left in stock</td>\n",
       "      <td>5995.0</td>\n",
       "    </tr>\n",
       "    <tr>\n",
       "      <th>368</th>\n",
       "      <td>GUESS Analog Black Dial Men's Watch-GW0388G1</td>\n",
       "      <td>GUESS</td>\n",
       "      <td>3</td>\n",
       "      <td>4.6</td>\n",
       "      <td>In stock</td>\n",
       "      <td>5456.0</td>\n",
       "    </tr>\n",
       "    <tr>\n",
       "      <th>369</th>\n",
       "      <td>GUESS 46mm Multifunction Stainless Steel Watch</td>\n",
       "      <td>GUESS</td>\n",
       "      <td>18</td>\n",
       "      <td>4.3</td>\n",
       "      <td>In stock</td>\n",
       "      <td>9450.0</td>\n",
       "    </tr>\n",
       "    <tr>\n",
       "      <th>370</th>\n",
       "      <td>GUESS Analog Black Dial Men's Watch-GW0368G3</td>\n",
       "      <td>GUESS</td>\n",
       "      <td>1</td>\n",
       "      <td>5.0</td>\n",
       "      <td>Only 1 left in stock</td>\n",
       "      <td>8746.0</td>\n",
       "    </tr>\n",
       "  </tbody>\n",
       "</table>\n",
       "<p>371 rows × 6 columns</p>\n",
       "</div>"
      ],
      "text/plain": [
       "                                                 Title  Brand  Reviews  \\\n",
       "0    RPS FASHION WITH DEVICE OF R mens Analog & Dig...    RPS       30   \n",
       "1    Titan Light Leathers Analog Blue Dial Men's Wa...  Titan      193   \n",
       "2    Hugo Boss Contemporary Sport Analog Blue Dial ...   Hugo      273   \n",
       "3    Casio Digital Black Dial Men's Watch-G-5600UE-1DR  Casio      461   \n",
       "4    LOUIS DEVIN Silicone Strap Analog Wrist Watch ...  LOUIS     1128   \n",
       "..                                                 ...    ...      ...   \n",
       "366  TIMEX 3 Hands Men Analog Silver Dial Coloured ...  TIMEX        2   \n",
       "367       Titan Analog Green Dial Men's Watch-1805WP01  Titan       31   \n",
       "368       GUESS Analog Black Dial Men's Watch-GW0388G1  GUESS        3   \n",
       "369     GUESS 46mm Multifunction Stainless Steel Watch  GUESS       18   \n",
       "370       GUESS Analog Black Dial Men's Watch-GW0368G3  GUESS        1   \n",
       "\n",
       "     Ratings          Availability    Price  \n",
       "0        3.3              In stock    170.0  \n",
       "1        4.3              In stock  10075.0  \n",
       "2        4.5              In stock  32925.0  \n",
       "3        4.7  Only 2 left in stock   5295.0  \n",
       "4        3.9              In stock    397.0  \n",
       "..       ...                   ...      ...  \n",
       "366      4.0              In stock   1502.0  \n",
       "367      4.3  Only 2 left in stock   5995.0  \n",
       "368      4.6              In stock   5456.0  \n",
       "369      4.3              In stock   9450.0  \n",
       "370      5.0  Only 1 left in stock   8746.0  \n",
       "\n",
       "[371 rows x 6 columns]"
      ]
     },
     "execution_count": 177,
     "metadata": {},
     "output_type": "execute_result"
    }
   ],
   "source": [
    "df"
   ]
  },
  {
   "cell_type": "code",
   "execution_count": null,
   "id": "db2d7d9c",
   "metadata": {},
   "outputs": [],
   "source": []
  }
 ],
 "metadata": {
  "kernelspec": {
   "display_name": "Python 3 (ipykernel)",
   "language": "python",
   "name": "python3"
  },
  "language_info": {
   "codemirror_mode": {
    "name": "ipython",
    "version": 3
   },
   "file_extension": ".py",
   "mimetype": "text/x-python",
   "name": "python",
   "nbconvert_exporter": "python",
   "pygments_lexer": "ipython3",
   "version": "3.9.13"
  }
 },
 "nbformat": 4,
 "nbformat_minor": 5
}
