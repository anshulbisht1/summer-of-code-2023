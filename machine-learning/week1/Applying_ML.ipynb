{
 "cells": [
  {
   "cell_type": "markdown",
   "id": "0cb8bbf5",
   "metadata": {},
   "source": [
    "Applying various regression models such as logistic regression, decision trees, random forests and KNN"
   ]
  },
  {
   "cell_type": "code",
   "execution_count": 202,
   "id": "586576bf",
   "metadata": {},
   "outputs": [],
   "source": [
    "# importing required libraries\n",
    "import pandas as pd\n",
    "import numpy as np\n",
    "from sklearn.model_selection import train_test_split\n",
    "from sklearn.linear_model import LinearRegression\n",
    "from sklearn.tree import DecisionTreeRegressor\n",
    "from sklearn.ensemble import RandomForestRegressor\n",
    "from sklearn.neighbors import KNeighborsRegressor\n",
    "from sklearn.metrics import mean_squared_error\n",
    "from sklearn.metrics import mean_absolute_error\n",
    "from sklearn.model_selection import GridSearchCV"
   ]
  },
  {
   "cell_type": "code",
   "execution_count": 203,
   "id": "7a7a1b23",
   "metadata": {},
   "outputs": [],
   "source": [
    "# Exctracting the data from the web scraped csv file\n",
    "df = pd.read_csv(\"raw_data.csv\")"
   ]
  },
  {
   "cell_type": "code",
   "execution_count": 204,
   "id": "06b3f2b4",
   "metadata": {},
   "outputs": [
    {
     "data": {
      "text/html": [
       "<div>\n",
       "<style scoped>\n",
       "    .dataframe tbody tr th:only-of-type {\n",
       "        vertical-align: middle;\n",
       "    }\n",
       "\n",
       "    .dataframe tbody tr th {\n",
       "        vertical-align: top;\n",
       "    }\n",
       "\n",
       "    .dataframe thead th {\n",
       "        text-align: right;\n",
       "    }\n",
       "</style>\n",
       "<table border=\"1\" class=\"dataframe\">\n",
       "  <thead>\n",
       "    <tr style=\"text-align: right;\">\n",
       "      <th></th>\n",
       "      <th>Brand</th>\n",
       "      <th>Reviews</th>\n",
       "      <th>Ratings</th>\n",
       "      <th>Availability</th>\n",
       "      <th>Price</th>\n",
       "    </tr>\n",
       "  </thead>\n",
       "  <tbody>\n",
       "    <tr>\n",
       "      <th>0</th>\n",
       "      <td>RPS</td>\n",
       "      <td>30</td>\n",
       "      <td>3.3</td>\n",
       "      <td>In stock</td>\n",
       "      <td>170.0</td>\n",
       "    </tr>\n",
       "    <tr>\n",
       "      <th>1</th>\n",
       "      <td>Titan</td>\n",
       "      <td>193</td>\n",
       "      <td>4.3</td>\n",
       "      <td>In stock</td>\n",
       "      <td>10075.0</td>\n",
       "    </tr>\n",
       "    <tr>\n",
       "      <th>2</th>\n",
       "      <td>Hugo</td>\n",
       "      <td>273</td>\n",
       "      <td>4.5</td>\n",
       "      <td>In stock</td>\n",
       "      <td>32925.0</td>\n",
       "    </tr>\n",
       "    <tr>\n",
       "      <th>3</th>\n",
       "      <td>Casio</td>\n",
       "      <td>461</td>\n",
       "      <td>4.7</td>\n",
       "      <td>Only 2 left in stock</td>\n",
       "      <td>5295.0</td>\n",
       "    </tr>\n",
       "    <tr>\n",
       "      <th>4</th>\n",
       "      <td>LOUIS</td>\n",
       "      <td>1128</td>\n",
       "      <td>3.9</td>\n",
       "      <td>In stock</td>\n",
       "      <td>397.0</td>\n",
       "    </tr>\n",
       "    <tr>\n",
       "      <th>...</th>\n",
       "      <td>...</td>\n",
       "      <td>...</td>\n",
       "      <td>...</td>\n",
       "      <td>...</td>\n",
       "      <td>...</td>\n",
       "    </tr>\n",
       "    <tr>\n",
       "      <th>366</th>\n",
       "      <td>TIMEX</td>\n",
       "      <td>2</td>\n",
       "      <td>4.0</td>\n",
       "      <td>In stock</td>\n",
       "      <td>1502.0</td>\n",
       "    </tr>\n",
       "    <tr>\n",
       "      <th>367</th>\n",
       "      <td>Titan</td>\n",
       "      <td>31</td>\n",
       "      <td>4.3</td>\n",
       "      <td>Only 2 left in stock</td>\n",
       "      <td>5995.0</td>\n",
       "    </tr>\n",
       "    <tr>\n",
       "      <th>368</th>\n",
       "      <td>GUESS</td>\n",
       "      <td>3</td>\n",
       "      <td>4.6</td>\n",
       "      <td>In stock</td>\n",
       "      <td>5456.0</td>\n",
       "    </tr>\n",
       "    <tr>\n",
       "      <th>369</th>\n",
       "      <td>GUESS</td>\n",
       "      <td>18</td>\n",
       "      <td>4.3</td>\n",
       "      <td>In stock</td>\n",
       "      <td>9450.0</td>\n",
       "    </tr>\n",
       "    <tr>\n",
       "      <th>370</th>\n",
       "      <td>GUESS</td>\n",
       "      <td>1</td>\n",
       "      <td>5.0</td>\n",
       "      <td>Only 1 left in stock</td>\n",
       "      <td>8746.0</td>\n",
       "    </tr>\n",
       "  </tbody>\n",
       "</table>\n",
       "<p>371 rows × 5 columns</p>\n",
       "</div>"
      ],
      "text/plain": [
       "     Brand  Reviews  Ratings          Availability    Price\n",
       "0      RPS       30      3.3              In stock    170.0\n",
       "1    Titan      193      4.3              In stock  10075.0\n",
       "2     Hugo      273      4.5              In stock  32925.0\n",
       "3    Casio      461      4.7  Only 2 left in stock   5295.0\n",
       "4    LOUIS     1128      3.9              In stock    397.0\n",
       "..     ...      ...      ...                   ...      ...\n",
       "366  TIMEX        2      4.0              In stock   1502.0\n",
       "367  Titan       31      4.3  Only 2 left in stock   5995.0\n",
       "368  GUESS        3      4.6              In stock   5456.0\n",
       "369  GUESS       18      4.3              In stock   9450.0\n",
       "370  GUESS        1      5.0  Only 1 left in stock   8746.0\n",
       "\n",
       "[371 rows x 5 columns]"
      ]
     },
     "execution_count": 204,
     "metadata": {},
     "output_type": "execute_result"
    }
   ],
   "source": [
    "#There is no requirement of title in the algorithm\n",
    "df.drop(\"Title\",axis=1,inplace=True)\n",
    "df"
   ]
  },
  {
   "cell_type": "code",
   "execution_count": 205,
   "id": "ff0323fb",
   "metadata": {},
   "outputs": [],
   "source": [
    "# extracting target values (price)\n",
    "Y = np.array(df.pop(\"Price\"))"
   ]
  },
  {
   "cell_type": "code",
   "execution_count": null,
   "id": "2a02b9c6",
   "metadata": {},
   "outputs": [],
   "source": []
  },
  {
   "cell_type": "code",
   "execution_count": null,
   "id": "3005ccec",
   "metadata": {},
   "outputs": [],
   "source": []
  },
  {
   "cell_type": "markdown",
   "id": "04319950",
   "metadata": {},
   "source": [
    "# Since we want to use various Regression methods, then each of the feature must be numerical (continous) but in this case we have two categorical variables- Brand,Availability.\n",
    "# Hence we must do some encoding for the same. One of the best options could be one-hot encoding. That means we are converting the data from categorical to binary."
   ]
  },
  {
   "cell_type": "code",
   "execution_count": 206,
   "id": "e8466cd4",
   "metadata": {},
   "outputs": [],
   "source": [
    "# one-hot encoding for df.Availability\n",
    "encoded_Availability = pd.get_dummies(df.Availability)\n",
    "df_new = pd.concat([df,encoded_Availability],axis = 1)\n",
    "\n",
    "# now we can remove 'In stock' column\n",
    "df_new.drop('Availability',axis=1,inplace=True)"
   ]
  },
  {
   "cell_type": "code",
   "execution_count": null,
   "id": "7066f192",
   "metadata": {},
   "outputs": [],
   "source": []
  },
  {
   "cell_type": "code",
   "execution_count": 207,
   "id": "1b73b210",
   "metadata": {},
   "outputs": [],
   "source": [
    "# one-hot encoding for df.Brand\n",
    "encoded_brand = pd.get_dummies(df.Brand)\n",
    "df_new = pd.concat([df_new,encoded_brand],axis=1)\n",
    "\n",
    "# now we can remove 'Brand' column\n",
    "df_new.drop('Brand',axis=1,inplace=True)"
   ]
  },
  {
   "cell_type": "code",
   "execution_count": 256,
   "id": "db53bde9",
   "metadata": {},
   "outputs": [
    {
     "data": {
      "text/html": [
       "<div>\n",
       "<style scoped>\n",
       "    .dataframe tbody tr th:only-of-type {\n",
       "        vertical-align: middle;\n",
       "    }\n",
       "\n",
       "    .dataframe tbody tr th {\n",
       "        vertical-align: top;\n",
       "    }\n",
       "\n",
       "    .dataframe thead th {\n",
       "        text-align: right;\n",
       "    }\n",
       "</style>\n",
       "<table border=\"1\" class=\"dataframe\">\n",
       "  <thead>\n",
       "    <tr style=\"text-align: right;\">\n",
       "      <th></th>\n",
       "      <th>Reviews</th>\n",
       "      <th>Ratings</th>\n",
       "      <th>In stock</th>\n",
       "      <th>Only 1 left in stock</th>\n",
       "      <th>Only 2 left in stock</th>\n",
       "      <th>Only 3 left in stock</th>\n",
       "      <th>Only 4 left in stock</th>\n",
       "      <th>Only 5 left in stock</th>\n",
       "      <th>Out of stock</th>\n",
       "      <th>Acnos</th>\n",
       "      <th>...</th>\n",
       "      <th>Shocknshop</th>\n",
       "      <th>Sonata</th>\n",
       "      <th>Sylvi</th>\n",
       "      <th>TIMEWEAR</th>\n",
       "      <th>TIMEX</th>\n",
       "      <th>Timex</th>\n",
       "      <th>Titan</th>\n",
       "      <th>Tommy</th>\n",
       "      <th>V2A</th>\n",
       "      <th>hamt</th>\n",
       "    </tr>\n",
       "  </thead>\n",
       "  <tbody>\n",
       "    <tr>\n",
       "      <th>0</th>\n",
       "      <td>30</td>\n",
       "      <td>3.3</td>\n",
       "      <td>1</td>\n",
       "      <td>0</td>\n",
       "      <td>0</td>\n",
       "      <td>0</td>\n",
       "      <td>0</td>\n",
       "      <td>0</td>\n",
       "      <td>0</td>\n",
       "      <td>0</td>\n",
       "      <td>...</td>\n",
       "      <td>0</td>\n",
       "      <td>0</td>\n",
       "      <td>0</td>\n",
       "      <td>0</td>\n",
       "      <td>0</td>\n",
       "      <td>0</td>\n",
       "      <td>0</td>\n",
       "      <td>0</td>\n",
       "      <td>0</td>\n",
       "      <td>0</td>\n",
       "    </tr>\n",
       "    <tr>\n",
       "      <th>1</th>\n",
       "      <td>193</td>\n",
       "      <td>4.3</td>\n",
       "      <td>1</td>\n",
       "      <td>0</td>\n",
       "      <td>0</td>\n",
       "      <td>0</td>\n",
       "      <td>0</td>\n",
       "      <td>0</td>\n",
       "      <td>0</td>\n",
       "      <td>0</td>\n",
       "      <td>...</td>\n",
       "      <td>0</td>\n",
       "      <td>0</td>\n",
       "      <td>0</td>\n",
       "      <td>0</td>\n",
       "      <td>0</td>\n",
       "      <td>0</td>\n",
       "      <td>1</td>\n",
       "      <td>0</td>\n",
       "      <td>0</td>\n",
       "      <td>0</td>\n",
       "    </tr>\n",
       "    <tr>\n",
       "      <th>2</th>\n",
       "      <td>273</td>\n",
       "      <td>4.5</td>\n",
       "      <td>1</td>\n",
       "      <td>0</td>\n",
       "      <td>0</td>\n",
       "      <td>0</td>\n",
       "      <td>0</td>\n",
       "      <td>0</td>\n",
       "      <td>0</td>\n",
       "      <td>0</td>\n",
       "      <td>...</td>\n",
       "      <td>0</td>\n",
       "      <td>0</td>\n",
       "      <td>0</td>\n",
       "      <td>0</td>\n",
       "      <td>0</td>\n",
       "      <td>0</td>\n",
       "      <td>0</td>\n",
       "      <td>0</td>\n",
       "      <td>0</td>\n",
       "      <td>0</td>\n",
       "    </tr>\n",
       "    <tr>\n",
       "      <th>3</th>\n",
       "      <td>461</td>\n",
       "      <td>4.7</td>\n",
       "      <td>0</td>\n",
       "      <td>0</td>\n",
       "      <td>1</td>\n",
       "      <td>0</td>\n",
       "      <td>0</td>\n",
       "      <td>0</td>\n",
       "      <td>0</td>\n",
       "      <td>0</td>\n",
       "      <td>...</td>\n",
       "      <td>0</td>\n",
       "      <td>0</td>\n",
       "      <td>0</td>\n",
       "      <td>0</td>\n",
       "      <td>0</td>\n",
       "      <td>0</td>\n",
       "      <td>0</td>\n",
       "      <td>0</td>\n",
       "      <td>0</td>\n",
       "      <td>0</td>\n",
       "    </tr>\n",
       "    <tr>\n",
       "      <th>4</th>\n",
       "      <td>1128</td>\n",
       "      <td>3.9</td>\n",
       "      <td>1</td>\n",
       "      <td>0</td>\n",
       "      <td>0</td>\n",
       "      <td>0</td>\n",
       "      <td>0</td>\n",
       "      <td>0</td>\n",
       "      <td>0</td>\n",
       "      <td>0</td>\n",
       "      <td>...</td>\n",
       "      <td>0</td>\n",
       "      <td>0</td>\n",
       "      <td>0</td>\n",
       "      <td>0</td>\n",
       "      <td>0</td>\n",
       "      <td>0</td>\n",
       "      <td>0</td>\n",
       "      <td>0</td>\n",
       "      <td>0</td>\n",
       "      <td>0</td>\n",
       "    </tr>\n",
       "    <tr>\n",
       "      <th>...</th>\n",
       "      <td>...</td>\n",
       "      <td>...</td>\n",
       "      <td>...</td>\n",
       "      <td>...</td>\n",
       "      <td>...</td>\n",
       "      <td>...</td>\n",
       "      <td>...</td>\n",
       "      <td>...</td>\n",
       "      <td>...</td>\n",
       "      <td>...</td>\n",
       "      <td>...</td>\n",
       "      <td>...</td>\n",
       "      <td>...</td>\n",
       "      <td>...</td>\n",
       "      <td>...</td>\n",
       "      <td>...</td>\n",
       "      <td>...</td>\n",
       "      <td>...</td>\n",
       "      <td>...</td>\n",
       "      <td>...</td>\n",
       "      <td>...</td>\n",
       "    </tr>\n",
       "    <tr>\n",
       "      <th>366</th>\n",
       "      <td>2</td>\n",
       "      <td>4.0</td>\n",
       "      <td>1</td>\n",
       "      <td>0</td>\n",
       "      <td>0</td>\n",
       "      <td>0</td>\n",
       "      <td>0</td>\n",
       "      <td>0</td>\n",
       "      <td>0</td>\n",
       "      <td>0</td>\n",
       "      <td>...</td>\n",
       "      <td>0</td>\n",
       "      <td>0</td>\n",
       "      <td>0</td>\n",
       "      <td>0</td>\n",
       "      <td>1</td>\n",
       "      <td>0</td>\n",
       "      <td>0</td>\n",
       "      <td>0</td>\n",
       "      <td>0</td>\n",
       "      <td>0</td>\n",
       "    </tr>\n",
       "    <tr>\n",
       "      <th>367</th>\n",
       "      <td>31</td>\n",
       "      <td>4.3</td>\n",
       "      <td>0</td>\n",
       "      <td>0</td>\n",
       "      <td>1</td>\n",
       "      <td>0</td>\n",
       "      <td>0</td>\n",
       "      <td>0</td>\n",
       "      <td>0</td>\n",
       "      <td>0</td>\n",
       "      <td>...</td>\n",
       "      <td>0</td>\n",
       "      <td>0</td>\n",
       "      <td>0</td>\n",
       "      <td>0</td>\n",
       "      <td>0</td>\n",
       "      <td>0</td>\n",
       "      <td>1</td>\n",
       "      <td>0</td>\n",
       "      <td>0</td>\n",
       "      <td>0</td>\n",
       "    </tr>\n",
       "    <tr>\n",
       "      <th>368</th>\n",
       "      <td>3</td>\n",
       "      <td>4.6</td>\n",
       "      <td>1</td>\n",
       "      <td>0</td>\n",
       "      <td>0</td>\n",
       "      <td>0</td>\n",
       "      <td>0</td>\n",
       "      <td>0</td>\n",
       "      <td>0</td>\n",
       "      <td>0</td>\n",
       "      <td>...</td>\n",
       "      <td>0</td>\n",
       "      <td>0</td>\n",
       "      <td>0</td>\n",
       "      <td>0</td>\n",
       "      <td>0</td>\n",
       "      <td>0</td>\n",
       "      <td>0</td>\n",
       "      <td>0</td>\n",
       "      <td>0</td>\n",
       "      <td>0</td>\n",
       "    </tr>\n",
       "    <tr>\n",
       "      <th>369</th>\n",
       "      <td>18</td>\n",
       "      <td>4.3</td>\n",
       "      <td>1</td>\n",
       "      <td>0</td>\n",
       "      <td>0</td>\n",
       "      <td>0</td>\n",
       "      <td>0</td>\n",
       "      <td>0</td>\n",
       "      <td>0</td>\n",
       "      <td>0</td>\n",
       "      <td>...</td>\n",
       "      <td>0</td>\n",
       "      <td>0</td>\n",
       "      <td>0</td>\n",
       "      <td>0</td>\n",
       "      <td>0</td>\n",
       "      <td>0</td>\n",
       "      <td>0</td>\n",
       "      <td>0</td>\n",
       "      <td>0</td>\n",
       "      <td>0</td>\n",
       "    </tr>\n",
       "    <tr>\n",
       "      <th>370</th>\n",
       "      <td>1</td>\n",
       "      <td>5.0</td>\n",
       "      <td>0</td>\n",
       "      <td>1</td>\n",
       "      <td>0</td>\n",
       "      <td>0</td>\n",
       "      <td>0</td>\n",
       "      <td>0</td>\n",
       "      <td>0</td>\n",
       "      <td>0</td>\n",
       "      <td>...</td>\n",
       "      <td>0</td>\n",
       "      <td>0</td>\n",
       "      <td>0</td>\n",
       "      <td>0</td>\n",
       "      <td>0</td>\n",
       "      <td>0</td>\n",
       "      <td>0</td>\n",
       "      <td>0</td>\n",
       "      <td>0</td>\n",
       "      <td>0</td>\n",
       "    </tr>\n",
       "  </tbody>\n",
       "</table>\n",
       "<p>371 rows × 51 columns</p>\n",
       "</div>"
      ],
      "text/plain": [
       "     Reviews  Ratings  In stock  Only 1 left in stock  Only 2 left in stock  \\\n",
       "0         30      3.3         1                     0                     0   \n",
       "1        193      4.3         1                     0                     0   \n",
       "2        273      4.5         1                     0                     0   \n",
       "3        461      4.7         0                     0                     1   \n",
       "4       1128      3.9         1                     0                     0   \n",
       "..       ...      ...       ...                   ...                   ...   \n",
       "366        2      4.0         1                     0                     0   \n",
       "367       31      4.3         0                     0                     1   \n",
       "368        3      4.6         1                     0                     0   \n",
       "369       18      4.3         1                     0                     0   \n",
       "370        1      5.0         0                     1                     0   \n",
       "\n",
       "     Only 3 left in stock  Only 4 left in stock  Only 5 left in stock  \\\n",
       "0                       0                     0                     0   \n",
       "1                       0                     0                     0   \n",
       "2                       0                     0                     0   \n",
       "3                       0                     0                     0   \n",
       "4                       0                     0                     0   \n",
       "..                    ...                   ...                   ...   \n",
       "366                     0                     0                     0   \n",
       "367                     0                     0                     0   \n",
       "368                     0                     0                     0   \n",
       "369                     0                     0                     0   \n",
       "370                     0                     0                     0   \n",
       "\n",
       "     Out of stock  Acnos  ...  Shocknshop  Sonata  Sylvi  TIMEWEAR  TIMEX  \\\n",
       "0               0      0  ...           0       0      0         0      0   \n",
       "1               0      0  ...           0       0      0         0      0   \n",
       "2               0      0  ...           0       0      0         0      0   \n",
       "3               0      0  ...           0       0      0         0      0   \n",
       "4               0      0  ...           0       0      0         0      0   \n",
       "..            ...    ...  ...         ...     ...    ...       ...    ...   \n",
       "366             0      0  ...           0       0      0         0      1   \n",
       "367             0      0  ...           0       0      0         0      0   \n",
       "368             0      0  ...           0       0      0         0      0   \n",
       "369             0      0  ...           0       0      0         0      0   \n",
       "370             0      0  ...           0       0      0         0      0   \n",
       "\n",
       "     Timex  Titan  Tommy  V2A  hamt  \n",
       "0        0      0      0    0     0  \n",
       "1        0      1      0    0     0  \n",
       "2        0      0      0    0     0  \n",
       "3        0      0      0    0     0  \n",
       "4        0      0      0    0     0  \n",
       "..     ...    ...    ...  ...   ...  \n",
       "366      0      0      0    0     0  \n",
       "367      0      1      0    0     0  \n",
       "368      0      0      0    0     0  \n",
       "369      0      0      0    0     0  \n",
       "370      0      0      0    0     0  \n",
       "\n",
       "[371 rows x 51 columns]"
      ]
     },
     "execution_count": 256,
     "metadata": {},
     "output_type": "execute_result"
    }
   ],
   "source": [
    "df_new"
   ]
  },
  {
   "cell_type": "code",
   "execution_count": null,
   "id": "ff7adad9",
   "metadata": {},
   "outputs": [],
   "source": []
  },
  {
   "cell_type": "code",
   "execution_count": null,
   "id": "c7410427",
   "metadata": {},
   "outputs": [],
   "source": []
  },
  {
   "cell_type": "markdown",
   "id": "587e6f45",
   "metadata": {},
   "source": [
    "Main data is now being stored as np.array format as-"
   ]
  },
  {
   "cell_type": "code",
   "execution_count": 229,
   "id": "c971b1f8",
   "metadata": {},
   "outputs": [
    {
     "data": {
      "text/plain": [
       "array([[ 30. ,   3.3,   1. , ...,   0. ,   0. ,   0. ],\n",
       "       [193. ,   4.3,   1. , ...,   0. ,   0. ,   0. ],\n",
       "       [273. ,   4.5,   1. , ...,   0. ,   0. ,   0. ],\n",
       "       ...,\n",
       "       [  3. ,   4.6,   1. , ...,   0. ,   0. ,   0. ],\n",
       "       [ 18. ,   4.3,   1. , ...,   0. ,   0. ,   0. ],\n",
       "       [  1. ,   5. ,   0. , ...,   0. ,   0. ,   0. ]])"
      ]
     },
     "execution_count": 229,
     "metadata": {},
     "output_type": "execute_result"
    }
   ],
   "source": [
    "X = df_new.values\n",
    "X"
   ]
  },
  {
   "cell_type": "code",
   "execution_count": null,
   "id": "a24442e6",
   "metadata": {},
   "outputs": [],
   "source": []
  },
  {
   "cell_type": "markdown",
   "id": "737a07e7",
   "metadata": {},
   "source": [
    "Splitting the data for training and testing."
   ]
  },
  {
   "cell_type": "code",
   "execution_count": 230,
   "id": "7932f17a",
   "metadata": {},
   "outputs": [],
   "source": [
    "X_train,X_test,Y_train,Y_test = train_test_split(X,Y,random_state = 0)"
   ]
  },
  {
   "cell_type": "code",
   "execution_count": null,
   "id": "74770d0e",
   "metadata": {},
   "outputs": [],
   "source": []
  },
  {
   "cell_type": "code",
   "execution_count": null,
   "id": "5d690bef",
   "metadata": {},
   "outputs": [],
   "source": []
  },
  {
   "cell_type": "markdown",
   "id": "1122f0f1",
   "metadata": {},
   "source": [
    "# Applying Linear Regression"
   ]
  },
  {
   "cell_type": "code",
   "execution_count": 231,
   "id": "845d0912",
   "metadata": {},
   "outputs": [],
   "source": [
    "\n",
    "alg1 = LinearRegression()\n",
    "alg1.fit(X_train,Y_train)\n",
    "\n",
    "# getting the predictions\n",
    "Y_pred_train = alg1.predict(X_train)\n",
    "Y_pred_test = alg1.predict(X_test)"
   ]
  },
  {
   "cell_type": "code",
   "execution_count": null,
   "id": "5c084af1",
   "metadata": {},
   "outputs": [],
   "source": []
  },
  {
   "cell_type": "markdown",
   "id": "28776179",
   "metadata": {},
   "source": [
    "Testing the effeciency of Linear Regression"
   ]
  },
  {
   "cell_type": "code",
   "execution_count": 232,
   "id": "9fd64b77",
   "metadata": {},
   "outputs": [],
   "source": [
    "MSE_train = mean_squared_error(Y_train,Y_pred_train)\n",
    "MSE_test = mean_squared_error(Y_test,Y_pred_test)"
   ]
  },
  {
   "cell_type": "code",
   "execution_count": 233,
   "id": "690f8c0b",
   "metadata": {},
   "outputs": [
    {
     "name": "stdout",
     "output_type": "stream",
     "text": [
      "4337582.00414423\n",
      "3709089.278891187\n"
     ]
    }
   ],
   "source": [
    "print(MSE_train)\n",
    "print(MSE_test)"
   ]
  },
  {
   "cell_type": "code",
   "execution_count": 234,
   "id": "05c91793",
   "metadata": {},
   "outputs": [
    {
     "name": "stdout",
     "output_type": "stream",
     "text": [
      "2082.6862471683608\n",
      "1925.8996024952046\n"
     ]
    }
   ],
   "source": [
    "RMSE_train = np.sqrt(MSE_train)\n",
    "RMSE_test = np.sqrt(MSE_test)\n",
    "print(RMSE_train)\n",
    "print(RMSE_test)"
   ]
  },
  {
   "cell_type": "code",
   "execution_count": 235,
   "id": "ac4bfb78",
   "metadata": {},
   "outputs": [
    {
     "data": {
      "text/plain": [
       "0.8119597985105549"
      ]
     },
     "execution_count": 235,
     "metadata": {},
     "output_type": "execute_result"
    }
   ],
   "source": [
    "alg1.score(X_train,Y_train)"
   ]
  },
  {
   "cell_type": "code",
   "execution_count": 236,
   "id": "101bc542",
   "metadata": {},
   "outputs": [
    {
     "data": {
      "text/plain": [
       "0.7883121330251237"
      ]
     },
     "execution_count": 236,
     "metadata": {},
     "output_type": "execute_result"
    }
   ],
   "source": [
    "alg1.score(X_test,Y_test)"
   ]
  },
  {
   "cell_type": "code",
   "execution_count": null,
   "id": "ca006450",
   "metadata": {},
   "outputs": [],
   "source": []
  },
  {
   "cell_type": "markdown",
   "id": "45565d24",
   "metadata": {},
   "source": [
    "# Applying KNN"
   ]
  },
  {
   "cell_type": "code",
   "execution_count": 237,
   "id": "a0128866",
   "metadata": {},
   "outputs": [
    {
     "data": {
      "text/plain": [
       "GridSearchCV(estimator=KNeighborsRegressor(),\n",
       "             param_grid={'n_neighbors': [1, 2, 3, 4, 5, 6, 7, 8, 9, 10, 11, 12,\n",
       "                                         13, 14, 15, 16, 17, 18, 19, 20, 21, 22,\n",
       "                                         23, 24, 25, 26, 27, 28, 29, 30, ...]})"
      ]
     },
     "execution_count": 237,
     "metadata": {},
     "output_type": "execute_result"
    }
   ],
   "source": [
    "alg2 = KNeighborsRegressor()\n",
    "\n",
    "# TO find the perfect K value we can apply Grid Search crorss validation\n",
    "grid = {'n_neighbors':[i for i in range(1,51)]}\n",
    "\n",
    "# initiating grid_search_object \n",
    "abc = GridSearchCV(alg2,grid)\n",
    "\n",
    "#fitting the training data\n",
    "abc.fit(X_train,Y_train)"
   ]
  },
  {
   "cell_type": "markdown",
   "id": "f6b9ed59",
   "metadata": {},
   "source": [
    "Getting the best value of K"
   ]
  },
  {
   "cell_type": "code",
   "execution_count": 238,
   "id": "ed6b43c5",
   "metadata": {},
   "outputs": [
    {
     "data": {
      "text/plain": [
       "KNeighborsRegressor(n_neighbors=4)"
      ]
     },
     "execution_count": 238,
     "metadata": {},
     "output_type": "execute_result"
    }
   ],
   "source": [
    "abc.best_estimator_"
   ]
  },
  {
   "cell_type": "code",
   "execution_count": 239,
   "id": "28e88e17",
   "metadata": {},
   "outputs": [],
   "source": [
    "# so using K = 4"
   ]
  },
  {
   "cell_type": "code",
   "execution_count": 240,
   "id": "46f3fb9f",
   "metadata": {},
   "outputs": [
    {
     "data": {
      "text/plain": [
       "KNeighborsRegressor(n_neighbors=4)"
      ]
     },
     "execution_count": 240,
     "metadata": {},
     "output_type": "execute_result"
    }
   ],
   "source": [
    "alg2 = KNeighborsRegressor(n_neighbors=4)\n",
    "alg2.fit(X_train,Y_train)"
   ]
  },
  {
   "cell_type": "markdown",
   "id": "e4820c4b",
   "metadata": {},
   "source": [
    "Getting the scores as well as MSE,RMSE and MAE for both training and testing data"
   ]
  },
  {
   "cell_type": "code",
   "execution_count": 241,
   "id": "0b4145cd",
   "metadata": {},
   "outputs": [
    {
     "name": "stdout",
     "output_type": "stream",
     "text": [
      "9839624.294514388\n",
      "8290949.729838709\n"
     ]
    }
   ],
   "source": [
    "# getting the predictions\n",
    "Y_pred_train = alg2.predict(X_train)\n",
    "Y_pred_test = alg2.predict(X_test)\n",
    "\n",
    "MSE_train = mean_squared_error(Y_train,Y_pred_train)\n",
    "MSE_test = mean_squared_error(Y_test,Y_pred_test)\n",
    "print(MSE_train)\n",
    "print(MSE_test)"
   ]
  },
  {
   "cell_type": "code",
   "execution_count": 242,
   "id": "2a691ed5",
   "metadata": {},
   "outputs": [
    {
     "name": "stdout",
     "output_type": "stream",
     "text": [
      "3136.817542432838\n",
      "2879.400932457776\n"
     ]
    }
   ],
   "source": [
    "RMSE_train = np.sqrt(MSE_train)\n",
    "RMSE_test = np.sqrt(MSE_test)\n",
    "print(RMSE_train)\n",
    "print(RMSE_test)"
   ]
  },
  {
   "cell_type": "code",
   "execution_count": 243,
   "id": "e4c77759",
   "metadata": {},
   "outputs": [
    {
     "data": {
      "text/plain": [
       "0.5734386270615388"
      ]
     },
     "execution_count": 243,
     "metadata": {},
     "output_type": "execute_result"
    }
   ],
   "source": [
    "alg2.score(X_train,Y_train)"
   ]
  },
  {
   "cell_type": "code",
   "execution_count": 244,
   "id": "e6321fe3",
   "metadata": {},
   "outputs": [
    {
     "data": {
      "text/plain": [
       "0.5268128288273073"
      ]
     },
     "execution_count": 244,
     "metadata": {},
     "output_type": "execute_result"
    }
   ],
   "source": [
    "alg2.score(X_test,Y_test)"
   ]
  },
  {
   "cell_type": "code",
   "execution_count": null,
   "id": "62bde01f",
   "metadata": {},
   "outputs": [],
   "source": []
  },
  {
   "cell_type": "code",
   "execution_count": null,
   "id": "86c60cfb",
   "metadata": {},
   "outputs": [],
   "source": []
  },
  {
   "cell_type": "markdown",
   "id": "7918fa18",
   "metadata": {},
   "source": [
    "# Applying Decision Tree Regressor"
   ]
  },
  {
   "cell_type": "code",
   "execution_count": 245,
   "id": "8b52915c",
   "metadata": {},
   "outputs": [
    {
     "data": {
      "text/plain": [
       "DecisionTreeRegressor()"
      ]
     },
     "execution_count": 245,
     "metadata": {},
     "output_type": "execute_result"
    }
   ],
   "source": [
    "alg3 = DecisionTreeRegressor()\n",
    "alg3.fit(X_train,Y_train)"
   ]
  },
  {
   "cell_type": "code",
   "execution_count": 246,
   "id": "4e0d079d",
   "metadata": {},
   "outputs": [
    {
     "data": {
      "text/plain": [
       "1.0"
      ]
     },
     "execution_count": 246,
     "metadata": {},
     "output_type": "execute_result"
    }
   ],
   "source": [
    "alg3.score(X_train,Y_train)"
   ]
  },
  {
   "cell_type": "markdown",
   "id": "da881c70",
   "metadata": {},
   "source": [
    "From the perfect score on the training data we can see that the model is doing *Overfitted* this is because there are a lot of features for the Tree to split upon, hence it will be performing NOT that good on test data as- "
   ]
  },
  {
   "cell_type": "code",
   "execution_count": 247,
   "id": "df72d2d8",
   "metadata": {},
   "outputs": [
    {
     "data": {
      "text/plain": [
       "0.8707065599255916"
      ]
     },
     "execution_count": 247,
     "metadata": {},
     "output_type": "execute_result"
    }
   ],
   "source": [
    "alg3.score(X_test,Y_test)"
   ]
  },
  {
   "cell_type": "markdown",
   "id": "5e8586ab",
   "metadata": {},
   "source": [
    "We can actually try to figure out a best value of maximum depth so that the score can be improved."
   ]
  },
  {
   "cell_type": "code",
   "execution_count": 248,
   "id": "f5d85638",
   "metadata": {},
   "outputs": [
    {
     "data": {
      "text/plain": [
       "DecisionTreeRegressor(max_depth=89)"
      ]
     },
     "execution_count": 248,
     "metadata": {},
     "output_type": "execute_result"
    }
   ],
   "source": [
    "grid = {\"max_depth\":[i for i in range(1,100)]}\n",
    "abc = GridSearchCV(alg3,grid)\n",
    "abc.fit(X_train,Y_train)\n",
    "\n",
    "abc.best_estimator_"
   ]
  },
  {
   "cell_type": "code",
   "execution_count": 249,
   "id": "b0bcdc5a",
   "metadata": {},
   "outputs": [
    {
     "name": "stdout",
     "output_type": "stream",
     "text": [
      "0.9435612093643545\n",
      "0.7849758302328572\n"
     ]
    }
   ],
   "source": [
    "# using the max_depth to be 8\n",
    "alg3 = DecisionTreeRegressor(max_depth = 8)\n",
    "alg3.fit(X_train,Y_train)\n",
    "print(alg3.score(X_train,Y_train))\n",
    "print(alg3.score(X_test,Y_test))"
   ]
  },
  {
   "cell_type": "markdown",
   "id": "da82dd42",
   "metadata": {},
   "source": [
    "This score is slightly better than the earlier one"
   ]
  },
  {
   "cell_type": "code",
   "execution_count": 250,
   "id": "5ba0ac6e",
   "metadata": {},
   "outputs": [
    {
     "name": "stdout",
     "output_type": "stream",
     "text": [
      "1301891.1948495298\n",
      "3767546.313272846\n"
     ]
    }
   ],
   "source": [
    "# getting the predictions\n",
    "Y_pred_train = alg3.predict(X_train)\n",
    "Y_pred_test = alg3.predict(X_test)\n",
    "\n",
    "MSE_train = mean_squared_error(Y_train,Y_pred_train)\n",
    "MSE_test = mean_squared_error(Y_test,Y_pred_test)\n",
    "print(MSE_train)\n",
    "print(MSE_test)"
   ]
  },
  {
   "cell_type": "code",
   "execution_count": 251,
   "id": "9fb8a450",
   "metadata": {},
   "outputs": [
    {
     "name": "stdout",
     "output_type": "stream",
     "text": [
      "1141.0044674976211\n",
      "1941.0168245723287\n"
     ]
    }
   ],
   "source": [
    "RMSE_train = np.sqrt(MSE_train)\n",
    "RMSE_test = np.sqrt(MSE_test)\n",
    "print(RMSE_train)\n",
    "print(RMSE_test)"
   ]
  },
  {
   "cell_type": "code",
   "execution_count": null,
   "id": "c6969663",
   "metadata": {},
   "outputs": [],
   "source": []
  },
  {
   "cell_type": "code",
   "execution_count": null,
   "id": "825af6e0",
   "metadata": {},
   "outputs": [],
   "source": []
  },
  {
   "cell_type": "markdown",
   "id": "e8886d16",
   "metadata": {},
   "source": [
    "# Applying Random  Forest Regressor"
   ]
  },
  {
   "cell_type": "code",
   "execution_count": 252,
   "id": "2e025ef0",
   "metadata": {},
   "outputs": [
    {
     "data": {
      "text/plain": [
       "0.9472673918895557"
      ]
     },
     "execution_count": 252,
     "metadata": {},
     "output_type": "execute_result"
    }
   ],
   "source": [
    "alg4 = RandomForestRegressor(n_estimators = 10000,random_state=8)\n",
    "alg4.fit(X_train,Y_train)\n",
    "alg4.score(X_train,Y_train)"
   ]
  },
  {
   "cell_type": "code",
   "execution_count": 253,
   "id": "bf89e065",
   "metadata": {},
   "outputs": [
    {
     "data": {
      "text/plain": [
       "0.8743353070319116"
      ]
     },
     "execution_count": 253,
     "metadata": {},
     "output_type": "execute_result"
    }
   ],
   "source": [
    "alg4.score(X_test,Y_test)"
   ]
  },
  {
   "cell_type": "markdown",
   "id": "31a94e9a",
   "metadata": {},
   "source": [
    "This is a significant improvement over the previous methods as we were using as a lot more number of estimators (individual trees) are used for the regression."
   ]
  },
  {
   "cell_type": "code",
   "execution_count": null,
   "id": "60c21a80",
   "metadata": {},
   "outputs": [],
   "source": []
  },
  {
   "cell_type": "code",
   "execution_count": 254,
   "id": "eaed8794",
   "metadata": {},
   "outputs": [
    {
     "name": "stdout",
     "output_type": "stream",
     "text": [
      "1216399.5260571574\n",
      "2201834.106431841\n"
     ]
    }
   ],
   "source": [
    "# getting the predictions\n",
    "Y_pred_train = alg4.predict(X_train)\n",
    "Y_pred_test = alg4.predict(X_test)\n",
    "\n",
    "MSE_train = mean_squared_error(Y_train,Y_pred_train)\n",
    "MSE_test = mean_squared_error(Y_test,Y_pred_test)\n",
    "print(MSE_train)\n",
    "print(MSE_test)"
   ]
  },
  {
   "cell_type": "code",
   "execution_count": 255,
   "id": "760bd0c5",
   "metadata": {},
   "outputs": [
    {
     "name": "stdout",
     "output_type": "stream",
     "text": [
      "1102.9050394558715\n",
      "1483.857845762808\n"
     ]
    }
   ],
   "source": [
    "RMSE_train = np.sqrt(MSE_train)\n",
    "RMSE_test = np.sqrt(MSE_test)\n",
    "print(RMSE_train)\n",
    "print(RMSE_test)"
   ]
  },
  {
   "cell_type": "code",
   "execution_count": null,
   "id": "fada3a83",
   "metadata": {},
   "outputs": [],
   "source": []
  },
  {
   "cell_type": "markdown",
   "id": "d22e7fac",
   "metadata": {},
   "source": [
    "# Conclusions- The best predicitons are given with the help of a random forest regreesor as it is using several individual trees to increase its performance"
   ]
  }
 ],
 "metadata": {
  "kernelspec": {
   "display_name": "Python 3 (ipykernel)",
   "language": "python",
   "name": "python3"
  },
  "language_info": {
   "codemirror_mode": {
    "name": "ipython",
    "version": 3
   },
   "file_extension": ".py",
   "mimetype": "text/x-python",
   "name": "python",
   "nbconvert_exporter": "python",
   "pygments_lexer": "ipython3",
   "version": "3.9.13"
  }
 },
 "nbformat": 4,
 "nbformat_minor": 5
}
